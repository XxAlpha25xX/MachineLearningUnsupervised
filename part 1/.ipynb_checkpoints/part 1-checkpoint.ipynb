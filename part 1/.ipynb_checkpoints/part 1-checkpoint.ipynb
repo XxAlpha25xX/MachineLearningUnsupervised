{
 "cells": [
  {
   "cell_type": "markdown",
   "metadata": {
    "cell_id": "2506570948c34bc1b6ce13cf9a297b77",
    "deepnote_cell_type": "text-cell-h1",
    "formattedRanges": [],
    "is_collapsed": false,
    "tags": []
   },
   "source": [
    "# Unsupervised Learning"
   ]
  },
  {
   "cell_type": "markdown",
   "metadata": {
    "cell_id": "fb0cca5ea3cd44cba324585f80460290",
    "deepnote_cell_type": "text-cell-h2",
    "formattedRanges": [],
    "is_collapsed": false,
    "tags": []
   },
   "source": [
    "## Part 1 : Data distribution and the law of large numbers"
   ]
  },
  {
   "cell_type": "markdown",
   "metadata": {
    "cell_id": "ffcd098c1b3d4b6cbcedc8690f9f44a9",
    "deepnote_cell_type": "text-cell-p",
    "formattedRanges": [
     {
      "fromCodePoint": 0,
      "marks": {
       "bold": true
      },
      "toCodePoint": 348,
      "type": "marks"
     }
    ],
    "is_collapsed": false,
    "tags": []
   },
   "source": [
    "1)Propose a 2-dimensional random variable Z = (X, Y), with X and Y being two\n",
    "real (∈ R), discrete or continuous random variables. These two variables should\n",
    "represent a quantities of your choice (e.g. the age of the individuals in a population,\n",
    "the color of the eyes of these individuals, ...). Compute the expected value of Z, that must be finite."
   ]
  },
  {
   "cell_type": "markdown",
   "metadata": {
    "cell_id": "f8920f3732a24a69aa564577f854d68d",
    "deepnote_cell_type": "text-cell-p",
    "formattedRanges": [
     {
      "fromCodePoint": 25,
      "marks": {
       "bold": true
      },
      "toCodePoint": 29,
      "type": "marks"
     },
     {
      "fromCodePoint": 36,
      "marks": {
       "bold": true
      },
      "toCodePoint": 40,
      "type": "marks"
     },
     {
      "fromCodePoint": 46,
      "marks": {
       "bold": true
      },
      "toCodePoint": 56,
      "type": "marks"
     }
    ],
    "is_collapsed": false,
    "tags": []
   },
   "source": [
    "Let's say that we have a coin and a dice. The experiment consist of flipping the coin then the dice. "
   ]
  },
  {
   "cell_type": "markdown",
   "metadata": {
    "cell_id": "5a77db5b206945b98a44a0a8fed7a59f",
    "deepnote_cell_type": "text-cell-p",
    "formattedRanges": [
     {
      "fromCodePoint": 21,
      "marks": {
       "bold": true
      },
      "toCodePoint": 22,
      "type": "marks"
     }
    ],
    "is_collapsed": false,
    "tags": []
   },
   "source": [
    "The random variable (X) represent the number of Head obtained after 3 flip. "
   ]
  },
  {
   "cell_type": "markdown",
   "metadata": {
    "cell_id": "da0225f79a6e42738a5c6ef128ec7ab5",
    "deepnote_cell_type": "text-cell-p",
    "formattedRanges": [
     {
      "fromCodePoint": 21,
      "marks": {
       "bold": true
      },
      "toCodePoint": 22,
      "type": "marks"
     }
    ],
    "is_collapsed": false,
    "tags": []
   },
   "source": [
    "The random variable (Y) represent the number of Ace after after 2 dice rolled."
   ]
  },
  {
   "cell_type": "markdown",
   "metadata": {
    "cell_id": "65f09eed9eed43ad9e2d9f4c75f10849",
    "deepnote_cell_type": "text-cell-p",
    "formattedRanges": [],
    "is_collapsed": false,
    "tags": []
   },
   "source": [
    "Both random variable are discrete and independent from each other."
   ]
  },
  {
   "cell_type": "markdown",
   "metadata": {
    "cell_id": "0e8f242734e54fa6bc99f7dfc9825092",
    "deepnote_cell_type": "text-cell-p",
    "formattedRanges": [],
    "is_collapsed": false,
    "tags": []
   },
   "source": [
    "Let's create an array of both distribution in which we can clearly see all the possible outcome of those experiment."
   ]
  },
  {
   "cell_type": "code",
   "execution_count": 1,
   "metadata": {
    "cell_id": "2af0bc548d2c4c289a1f56c96021f088",
    "deepnote_cell_type": "code",
    "deepnote_to_be_reexecuted": false,
    "execution_millis": 1863,
    "execution_start": 1679254674668,
    "source_hash": "68301009",
    "tags": []
   },
   "outputs": [],
   "source": [
    "import pandas as pd\n",
    "import numpy as np\n",
    "import seaborn as sns\n",
    "import matplotlib.pyplot as plt"
   ]
  },
  {
   "cell_type": "markdown",
   "metadata": {
    "cell_id": "7a5271931bc546e9a0aa3caeb5299003",
    "deepnote_cell_type": "text-cell-p",
    "formattedRanges": [],
    "is_collapsed": false,
    "tags": []
   },
   "source": [
    "There is 2 exposant(3) result possible for space (X) so 8 possible result. Let's build the coin experiment space (all the possible value from the experiment)."
   ]
  },
  {
   "cell_type": "code",
   "execution_count": 2,
   "metadata": {
    "cell_id": "1d47f18007654bac8d6cff4baa29effb",
    "deepnote_cell_type": "code",
    "deepnote_to_be_reexecuted": false,
    "execution_millis": 5,
    "execution_start": 1679254676547,
    "source_hash": "ffa25859",
    "tags": []
   },
   "outputs": [
    {
     "name": "stdout",
     "output_type": "stream",
     "text": [
      "Shape:  (8, 3)\n",
      "Coin Experiment Space : \n",
      " [['TAIL' 'TAIL' 'TAIL']\n",
      " ['TAIL' 'TAIL' 'HEAD']\n",
      " ['TAIL' 'HEAD' 'TAIL']\n",
      " ['TAIL' 'HEAD' 'HEAD']\n",
      " ['HEAD' 'TAIL' 'TAIL']\n",
      " ['HEAD' 'TAIL' 'HEAD']\n",
      " ['HEAD' 'HEAD' 'TAIL']\n",
      " ['HEAD' 'HEAD' 'HEAD']]\n"
     ]
    }
   ],
   "source": [
    "coinNbOutcome = 2**3\n",
    "coinSpace = np.array([ [x, y, z] for x in range(0, 2) for y in range(0, 2) for z in range(0, 2)])\n",
    "coinSpaceRep = np.array([\"HEAD\" if number == 1 else \"TAIL\" for item in coinSpace for number in item]).reshape(-1, 3)\n",
    "\n",
    "\n",
    "print(\"Shape: \", coinSpace.shape)\n",
    "print(\"Coin Experiment Space : \\n\",coinSpaceRep)\n"
   ]
  },
  {
   "cell_type": "markdown",
   "metadata": {
    "cell_id": "83e450738bab4cc6b9f94c142bdcd65e",
    "deepnote_cell_type": "text-cell-p",
    "formattedRanges": [],
    "is_collapsed": false,
    "tags": []
   },
   "source": [
    "Now let's look at the odds of getting Heads after 3 flip."
   ]
  },
  {
   "cell_type": "code",
   "execution_count": 3,
   "metadata": {
    "cell_id": "4b48b99e87d848a7bbf0b527707a8925",
    "deepnote_cell_type": "code",
    "deepnote_to_be_reexecuted": false,
    "execution_millis": 3,
    "execution_start": 1679254676586,
    "source_hash": "7359959e",
    "tags": []
   },
   "outputs": [
    {
     "name": "stdout",
     "output_type": "stream",
     "text": [
      "       0\n",
      "0  0.125\n",
      "1  0.375\n",
      "2  0.375\n",
      "3  0.125\n"
     ]
    }
   ],
   "source": [
    "coinProba = [(len(np.where(coinSpace[:,[0]] + coinSpace[:,[1]] + coinSpace[:,[2]] == x)[0]) / coinNbOutcome) for x in range(0, 4)]\n",
    "dfCoinProba = pd.DataFrame(coinProba)\n",
    "print(dfCoinProba)"
   ]
  },
  {
   "cell_type": "markdown",
   "metadata": {
    "cell_id": "2b2aa166509a4d30ad721cd01b90e6e8",
    "deepnote_cell_type": "text-cell-p",
    "formattedRanges": [],
    "is_collapsed": false,
    "tags": []
   },
   "source": [
    "As we can see, there is "
   ]
  },
  {
   "cell_type": "markdown",
   "metadata": {
    "cell_id": "84d235bc9b014130a0ace1e471448079",
    "deepnote_cell_type": "text-cell-p",
    "formattedRanges": [],
    "is_collapsed": false,
    "tags": []
   },
   "source": [
    "1/8%(0.125) chances of getting 0 Head"
   ]
  },
  {
   "cell_type": "markdown",
   "metadata": {
    "cell_id": "432f6a232d604e158b1d01c0e799a599",
    "deepnote_cell_type": "text-cell-p",
    "formattedRanges": [],
    "is_collapsed": false,
    "tags": []
   },
   "source": [
    "3/8%(0.375) chances of getting 1 Head"
   ]
  },
  {
   "cell_type": "markdown",
   "metadata": {
    "cell_id": "16dc20f8163b474f8fdf852c2d0166d8",
    "deepnote_cell_type": "text-cell-p",
    "formattedRanges": [],
    "is_collapsed": false,
    "tags": []
   },
   "source": [
    "3/8%(0.375) chances of getting 2 Heads "
   ]
  },
  {
   "cell_type": "markdown",
   "metadata": {
    "cell_id": "70db07a780094abe91860ec37568a9c1",
    "deepnote_cell_type": "text-cell-p",
    "formattedRanges": [],
    "is_collapsed": false,
    "tags": []
   },
   "source": [
    "1/8%(0.125) chances of getting 3 Heads"
   ]
  },
  {
   "cell_type": "code",
   "execution_count": 4,
   "metadata": {
    "cell_id": "77289ade147649bd938dbcb6500e1a2a",
    "deepnote_cell_type": "code",
    "deepnote_to_be_reexecuted": false,
    "execution_millis": 3,
    "execution_start": 1679254676587,
    "source_hash": "b35012fd",
    "tags": []
   },
   "outputs": [
    {
     "name": "stdout",
     "output_type": "stream",
     "text": [
      "0    1.0\n",
      "dtype: float64\n"
     ]
    }
   ],
   "source": [
    "print(dfCoinProba.sum())"
   ]
  },
  {
   "cell_type": "markdown",
   "metadata": {
    "cell_id": "cc4436371f29483a95f1c37b77c1482d",
    "deepnote_cell_type": "text-cell-p",
    "formattedRanges": [],
    "is_collapsed": false,
    "tags": []
   },
   "source": [
    "Since the all the probability summed together add up to one, everything is correct."
   ]
  },
  {
   "cell_type": "markdown",
   "metadata": {
    "cell_id": "7953dd1e52b042cab9b15e29429bdc0e",
    "deepnote_cell_type": "text-cell-p",
    "formattedRanges": [],
    "is_collapsed": false,
    "tags": []
   },
   "source": [
    "There is 6 exposant(2) result possible for space (Y) so 36 possible result. Let's build the dice experiment space (all the possible value from the experiment)."
   ]
  },
  {
   "cell_type": "code",
   "execution_count": 5,
   "metadata": {
    "cell_id": "8332dfc5d3e9492d893507a7f5ecfca9",
    "deepnote_cell_type": "code",
    "deepnote_to_be_reexecuted": false,
    "execution_millis": 3,
    "execution_start": 1679254676589,
    "source_hash": "137c2cb5",
    "tags": []
   },
   "outputs": [
    {
     "name": "stdout",
     "output_type": "stream",
     "text": [
      "Shape:  (36, 2)\n",
      "Dice Experiment Space : \n",
      " [[1 1]\n",
      " [1 2]\n",
      " [1 3]\n",
      " [1 4]\n",
      " [1 5]\n",
      " [1 6]\n",
      " [2 1]\n",
      " [2 2]\n",
      " [2 3]\n",
      " [2 4]\n",
      " [2 5]\n",
      " [2 6]\n",
      " [3 1]\n",
      " [3 2]\n",
      " [3 3]\n",
      " [3 4]\n",
      " [3 5]\n",
      " [3 6]\n",
      " [4 1]\n",
      " [4 2]\n",
      " [4 3]\n",
      " [4 4]\n",
      " [4 5]\n",
      " [4 6]\n",
      " [5 1]\n",
      " [5 2]\n",
      " [5 3]\n",
      " [5 4]\n",
      " [5 5]\n",
      " [5 6]\n",
      " [6 1]\n",
      " [6 2]\n",
      " [6 3]\n",
      " [6 4]\n",
      " [6 5]\n",
      " [6 6]]\n"
     ]
    }
   ],
   "source": [
    "diceNbOutcome = 6**2\n",
    "diceSpace = np.array([ [x, y] for x in range(1, 7) for y in range(1, 7)])\n",
    "\n",
    "print(\"Shape: \", diceSpace.shape)\n",
    "print(\"Dice Experiment Space : \\n\",diceSpace)"
   ]
  },
  {
   "cell_type": "markdown",
   "metadata": {
    "cell_id": "eff3fd7cd2064537ba9e3bea8f2bdf44",
    "deepnote_cell_type": "text-cell-p",
    "formattedRanges": [],
    "is_collapsed": false,
    "tags": []
   },
   "source": [
    "Now let's look at the odds of getting Ace after 2 dice rolled."
   ]
  },
  {
   "cell_type": "code",
   "execution_count": 14,
   "metadata": {
    "cell_id": "bff23fdaf05f485ab314efe85b998524",
    "deepnote_cell_type": "code",
    "deepnote_to_be_reexecuted": false,
    "execution_millis": 3,
    "execution_start": 1679254676702,
    "source_hash": "b2aa461b",
    "tags": []
   },
   "outputs": [
    {
     "name": "stdout",
     "output_type": "stream",
     "text": [
      "          0\n",
      "0  0.694444\n",
      "1  0.277778\n",
      "2  0.027778\n"
     ]
    }
   ],
   "source": [
    "diceProba0Ace = ((5/6)**2)\n",
    "diceProba1Ace = ((1/6 * 5/6) + (5/6 * 1/6))\n",
    "diceProba2Ace = ((1/6)**2)\n",
    "dfDiceProba = pd.DataFrame([diceProba0Ace, diceProba1Ace, diceProba2Ace])\n",
    "print(dfDiceProba)"
   ]
  },
  {
   "cell_type": "markdown",
   "metadata": {
    "cell_id": "e592541310654e9ba1d124b0d76bb7a1",
    "deepnote_cell_type": "text-cell-p",
    "formattedRanges": [],
    "is_collapsed": false,
    "tags": []
   },
   "source": [
    "As we can see, there is "
   ]
  },
  {
   "cell_type": "markdown",
   "metadata": {
    "cell_id": "2a73419c1d254270b9bec82e71cc2db7",
    "deepnote_cell_type": "text-cell-p",
    "formattedRanges": [],
    "is_collapsed": false,
    "tags": []
   },
   "source": [
    "25/36%(0.694) of chance of getting 0 Ace"
   ]
  },
  {
   "cell_type": "markdown",
   "metadata": {
    "cell_id": "e66827dd26ca4c54907b5a58a453861a",
    "deepnote_cell_type": "text-cell-p",
    "formattedRanges": [],
    "is_collapsed": false,
    "tags": []
   },
   "source": [
    "10/36%(0.277) of chance of getting 1 Ace"
   ]
  },
  {
   "cell_type": "markdown",
   "metadata": {
    "cell_id": "1b667da0606643adbc498396d9851e30",
    "deepnote_cell_type": "text-cell-p",
    "formattedRanges": [],
    "is_collapsed": false,
    "tags": []
   },
   "source": [
    "1/36%(0.027) of chance of getting 2 Aces "
   ]
  },
  {
   "cell_type": "code",
   "execution_count": 15,
   "metadata": {
    "cell_id": "3da3e9727005424e95ee4fa3fe21f8f0",
    "deepnote_cell_type": "code",
    "deepnote_to_be_reexecuted": false,
    "execution_millis": 3,
    "execution_start": 1679254676703,
    "source_hash": "94150ff4",
    "tags": []
   },
   "outputs": [
    {
     "name": "stdout",
     "output_type": "stream",
     "text": [
      "0    1.0\n",
      "dtype: float64\n"
     ]
    }
   ],
   "source": [
    "print(dfDiceProba.sum())"
   ]
  },
  {
   "cell_type": "markdown",
   "metadata": {
    "cell_id": "62ccc4089f2d426b944bc6df2f982828",
    "deepnote_cell_type": "text-cell-p",
    "formattedRanges": [],
    "is_collapsed": false,
    "tags": []
   },
   "source": [
    "Since the all the probability summed together add up to one, everything is correct."
   ]
  },
  {
   "cell_type": "markdown",
   "metadata": {
    "cell_id": "501547bdac4e471aab3f4afd2c05abb5",
    "deepnote_cell_type": "text-cell-p",
    "formattedRanges": [],
    "is_collapsed": false,
    "tags": []
   },
   "source": [
    "Now let's plot X and Y."
   ]
  },
  {
   "cell_type": "code",
   "execution_count": 16,
   "metadata": {
    "cell_id": "45fc482d4d7146a8b3c51618a5324809",
    "deepnote_cell_type": "code",
    "deepnote_to_be_reexecuted": false,
    "execution_millis": 159,
    "execution_start": 1679254676705,
    "source_hash": "ac2b0cfa",
    "tags": []
   },
   "outputs": [
    {
     "data": {
      "image/png": "[encoded data removed]",
      "text/plain": [
       "<Figure size 640x480 with 1 Axes>"
      ]
     },
     "metadata": {},
     "output_type": "display_data"
    }
   ],
   "source": [
    "fig, ax = plt.subplots()\n",
    "sns.scatterplot(data=dfCoinProba, ax=ax)\n",
    "\n",
    "plt.title(\"Distribution of X(Coin)\")\n",
    "plt.show()\n",
    " # Mettre des points a la place des lignes"
   ]
  },
  {
   "cell_type": "code",
   "execution_count": 17,
   "metadata": {
    "cell_id": "825b7dd759d444e8b961d84e10143201",
    "deepnote_cell_type": "code",
    "deepnote_to_be_reexecuted": false,
    "execution_millis": 191,
    "execution_start": 1679254677161,
    "source_hash": "8e3e5a81",
    "tags": []
   },
   "outputs": [
    {
     "data": {
      "image/png": "[encoded data removed]",
      "text/plain": [
       "<Figure size 640x480 with 1 Axes>"
      ]
     },
     "metadata": {},
     "output_type": "display_data"
    }
   ],
   "source": [
    "fig, ax = plt.subplots()\n",
    "sns.scatterplot(data=dfDiceProba, ax=ax)\n",
    "\n",
    "plt.title(\"Distribution of Y(Dice)\")\n",
    "plt.show()"
   ]
  },
  {
   "cell_type": "code",
   "execution_count": 20,
   "metadata": {
    "cell_id": "1f1989798c3f4d1e81431f4957ab231e",
    "deepnote_cell_type": "code",
    "deepnote_to_be_reexecuted": false,
    "execution_millis": 4,
    "execution_start": 1679254677601,
    "source_hash": "ea2a046d",
    "tags": []
   },
   "outputs": [
    {
     "name": "stdout",
     "output_type": "stream",
     "text": [
      "Espected Value(X) :  1.5\n",
      "Espected Value(Y) :  0.33333333333333337\n",
      "Espected Value(Z) :  (1.5, 0.33333333333333337)\n",
      "          0\n",
      "0  0.694444\n",
      "1  0.277778\n",
      "2  0.027778\n"
     ]
    }
   ],
   "source": [
    "ex = (1 * dfCoinProba[0][1]) + (2 * dfCoinProba[0][2]) + (3 * dfCoinProba[0][3])\n",
    "ey = (1 * dfDiceProba[0][1]) + (2 * dfDiceProba[0][2])\n",
    "ez = (ex, ey)\n",
    "print(\"Espected Value(X) : \",ex)\n",
    "print(\"Espected Value(Y) : \",ey)\n",
    "print(\"Espected Value(Z) : \",ez)\n",
    "print(dfDiceProba)"
   ]
  },
  {
   "cell_type": "markdown",
   "metadata": {
    "cell_id": "d283add46f964ecfaed9c798270e3f83",
    "deepnote_cell_type": "markdown",
    "deepnote_to_be_reexecuted": false,
    "execution_millis": 6,
    "execution_start": 1677147235264,
    "source_hash": "3fa73673",
    "tags": []
   },
   "source": [
    "So the expected value of X is 1.5 and the expected value of y is 0.33\n",
    "E(X) = 1.5\n",
    "E(Y) = 0.33\n",
    "Since X and Y are indepedent\n",
    "E(Z) = (E(X), E(Y))"
   ]
  },
  {
   "cell_type": "code",
   "execution_count": 21,
   "metadata": {
    "cell_id": "1bcd98dbb10e48659767eaf90b652586",
    "deepnote_cell_type": "code",
    "deepnote_to_be_reexecuted": false,
    "execution_millis": 52,
    "execution_start": 1679254677609,
    "source_hash": "f3f59976",
    "tags": []
   },
   "outputs": [
    {
     "name": "stdout",
     "output_type": "stream",
     "text": [
      "[[0.08680556 0.26041667 0.26041667 0.08680556]\n",
      " [0.03472222 0.10416667 0.10416667 0.03472222]\n",
      " [0.00347222 0.01041667 0.01041667 0.00347222]]\n"
     ]
    }
   ],
   "source": [
    "diceP = np.array([dfDiceProba.iat[number, 0] for number in range(0, 3)])\n",
    "coinP = np.array([dfCoinProba.iat[number, 0] for number in range(0, 4)])\n",
    "\n",
    "probaXY = diceP.reshape(3, 1) @ coinP.reshape(1, 4) # A retenir\n",
    "\n",
    "print(probaXY)\n"
   ]
  },
  {
   "cell_type": "code",
   "execution_count": 22,
   "metadata": {
    "cell_id": "9e86e5674bde4e399fa941979fdd03e9",
    "deepnote_cell_type": "code",
    "deepnote_to_be_reexecuted": false,
    "execution_millis": 10,
    "execution_start": 1679254677654,
    "source_hash": "1fbfe2fb",
    "tags": []
   },
   "outputs": [
    {
     "name": "stdout",
     "output_type": "stream",
     "text": [
      "1.0\n"
     ]
    }
   ],
   "source": [
    "print(probaXY.sum())"
   ]
  },
  {
   "cell_type": "markdown",
   "metadata": {},
   "source": [
    "Since the all the probability summed together add up to one, everything is correct."
   ]
  },
  {
   "cell_type": "code",
   "execution_count": 24,
   "metadata": {
    "cell_id": "175e2f16bcca4b8dadf375711c34c0de",
    "deepnote_cell_type": "code",
    "deepnote_to_be_reexecuted": false,
    "execution_millis": 4,
    "execution_start": 1679254677703,
    "source_hash": "f0592411",
    "tags": []
   },
   "outputs": [
    {
     "data": {
      "text/html": [
       "<div>\n",
       "<style scoped>\n",
       "    .dataframe tbody tr th:only-of-type {\n",
       "        vertical-align: middle;\n",
       "    }\n",
       "\n",
       "    .dataframe tbody tr th {\n",
       "        vertical-align: top;\n",
       "    }\n",
       "\n",
       "    .dataframe thead th {\n",
       "        text-align: right;\n",
       "    }\n",
       "</style>\n",
       "<table border=\"1\" class=\"dataframe\">\n",
       "  <thead>\n",
       "    <tr style=\"text-align: right;\">\n",
       "      <th></th>\n",
       "      <th>X = 0</th>\n",
       "      <th>X = 1</th>\n",
       "      <th>X = 2</th>\n",
       "      <th>X = 3</th>\n",
       "    </tr>\n",
       "  </thead>\n",
       "  <tbody>\n",
       "    <tr>\n",
       "      <th>Y = 0</th>\n",
       "      <td>0.086806</td>\n",
       "      <td>0.260417</td>\n",
       "      <td>0.260417</td>\n",
       "      <td>0.086806</td>\n",
       "    </tr>\n",
       "    <tr>\n",
       "      <th>Y = 1</th>\n",
       "      <td>0.034722</td>\n",
       "      <td>0.104167</td>\n",
       "      <td>0.104167</td>\n",
       "      <td>0.034722</td>\n",
       "    </tr>\n",
       "    <tr>\n",
       "      <th>Y = 2</th>\n",
       "      <td>0.003472</td>\n",
       "      <td>0.010417</td>\n",
       "      <td>0.010417</td>\n",
       "      <td>0.003472</td>\n",
       "    </tr>\n",
       "  </tbody>\n",
       "</table>\n",
       "</div>"
      ],
      "text/plain": [
       "          X = 0     X = 1     X = 2     X = 3\n",
       "Y = 0  0.086806  0.260417  0.260417  0.086806\n",
       "Y = 1  0.034722  0.104167  0.104167  0.034722\n",
       "Y = 2  0.003472  0.010417  0.010417  0.003472"
      ]
     },
     "execution_count": 24,
     "metadata": {},
     "output_type": "execute_result"
    }
   ],
   "source": [
    "colum= [\"X = 0\", \"X = 1\", \"X = 2\", \"X = 3\"]\n",
    "row=[\"Y = 0\",\"Y = 1\", \"Y = 2\"]\n",
    "df5 = pd.DataFrame(probaXY, columns=colum, index=row)\n",
    "df5.head(6)"
   ]
  },
  {
   "cell_type": "markdown",
   "metadata": {
    "cell_id": "4f0e78d8134043bea195387daf3e2b55",
    "deepnote_cell_type": "text-cell-p",
    "formattedRanges": [
     {
      "fromCodePoint": 0,
      "marks": {
       "bold": true
      },
      "toCodePoint": 106,
      "type": "marks"
     }
    ],
    "is_collapsed": false,
    "tags": []
   },
   "source": [
    "2) Sample a number n (of your choice) of points from the law of Z and plot them\n",
    "in a 2 dimensional figure."
   ]
  },
  {
   "cell_type": "markdown",
   "metadata": {
    "cell_id": "1d81493bce6248b098af939ca4a70150",
    "deepnote_cell_type": "text-cell-p",
    "formattedRanges": [],
    "is_collapsed": false,
    "tags": []
   },
   "source": [
    "Let's create two binomial distribution XSample and YSample."
   ]
  },
  {
   "cell_type": "markdown",
   "metadata": {
    "cell_id": "f3db9eba-8461-485c-a34a-8269d56ba381",
    "deepnote_cell_type": "text-cell-p",
    "formattedRanges": [],
    "is_collapsed": false,
    "tags": []
   },
   "source": [
    "Where n is the number of trials and p is the probability of success."
   ]
  },
  {
   "cell_type": "markdown",
   "metadata": {
    "cell_id": "2f5ba578-5fbc-46f9-b3a6-edb5a346a9db",
    "deepnote_cell_type": "text-cell-p",
    "formattedRanges": [],
    "is_collapsed": false,
    "tags": []
   },
   "source": [
    "For XSample(Coin) n = 3 and p = 0.5"
   ]
  },
  {
   "cell_type": "markdown",
   "metadata": {
    "cell_id": "ee1e4e44-8ca6-453c-9e91-e24a5dbef9d2",
    "deepnote_cell_type": "text-cell-p",
    "formattedRanges": [],
    "is_collapsed": false,
    "tags": []
   },
   "source": [
    "For YSample(Dice) n = 2 and p = 1/6"
   ]
  },
  {
   "cell_type": "code",
   "execution_count": 28,
   "metadata": {
    "cell_id": "d6e2c3f7bd8343f3a1b958e698342d8f",
    "deepnote_cell_type": "code",
    "deepnote_table_loading": false,
    "deepnote_table_state": {
     "filters": [],
     "pageIndex": 0,
     "pageSize": 10,
     "sortBy": []
    },
    "deepnote_to_be_reexecuted": false,
    "execution_millis": 26,
    "execution_start": 1679254677711,
    "source_hash": "9242a686",
    "tags": []
   },
   "outputs": [
    {
     "data": {
      "text/html": [
       "<div>\n",
       "<style scoped>\n",
       "    .dataframe tbody tr th:only-of-type {\n",
       "        vertical-align: middle;\n",
       "    }\n",
       "\n",
       "    .dataframe tbody tr th {\n",
       "        vertical-align: top;\n",
       "    }\n",
       "\n",
       "    .dataframe thead th {\n",
       "        text-align: right;\n",
       "    }\n",
       "</style>\n",
       "<table border=\"1\" class=\"dataframe\">\n",
       "  <thead>\n",
       "    <tr style=\"text-align: right;\">\n",
       "      <th></th>\n",
       "      <th>X</th>\n",
       "      <th>Y</th>\n",
       "    </tr>\n",
       "  </thead>\n",
       "  <tbody>\n",
       "    <tr>\n",
       "      <th>0</th>\n",
       "      <td>2</td>\n",
       "      <td>0</td>\n",
       "    </tr>\n",
       "    <tr>\n",
       "      <th>1</th>\n",
       "      <td>2</td>\n",
       "      <td>0</td>\n",
       "    </tr>\n",
       "    <tr>\n",
       "      <th>2</th>\n",
       "      <td>1</td>\n",
       "      <td>0</td>\n",
       "    </tr>\n",
       "    <tr>\n",
       "      <th>3</th>\n",
       "      <td>0</td>\n",
       "      <td>1</td>\n",
       "    </tr>\n",
       "    <tr>\n",
       "      <th>4</th>\n",
       "      <td>1</td>\n",
       "      <td>1</td>\n",
       "    </tr>\n",
       "    <tr>\n",
       "      <th>5</th>\n",
       "      <td>0</td>\n",
       "      <td>0</td>\n",
       "    </tr>\n",
       "    <tr>\n",
       "      <th>6</th>\n",
       "      <td>3</td>\n",
       "      <td>0</td>\n",
       "    </tr>\n",
       "    <tr>\n",
       "      <th>7</th>\n",
       "      <td>2</td>\n",
       "      <td>1</td>\n",
       "    </tr>\n",
       "    <tr>\n",
       "      <th>8</th>\n",
       "      <td>2</td>\n",
       "      <td>1</td>\n",
       "    </tr>\n",
       "    <tr>\n",
       "      <th>9</th>\n",
       "      <td>1</td>\n",
       "      <td>0</td>\n",
       "    </tr>\n",
       "    <tr>\n",
       "      <th>10</th>\n",
       "      <td>0</td>\n",
       "      <td>1</td>\n",
       "    </tr>\n",
       "    <tr>\n",
       "      <th>11</th>\n",
       "      <td>2</td>\n",
       "      <td>0</td>\n",
       "    </tr>\n",
       "  </tbody>\n",
       "</table>\n",
       "</div>"
      ],
      "text/plain": [
       "    X  Y\n",
       "0   2  0\n",
       "1   2  0\n",
       "2   1  0\n",
       "3   0  1\n",
       "4   1  1\n",
       "5   0  0\n",
       "6   3  0\n",
       "7   2  1\n",
       "8   2  1\n",
       "9   1  0\n",
       "10  0  1\n",
       "11  2  0"
      ]
     },
     "execution_count": 28,
     "metadata": {},
     "output_type": "execute_result"
    }
   ],
   "source": [
    "s = 100\n",
    "n, p = 3, .5\n",
    "XSample = np.random.binomial(n, p, size=s)\n",
    "n, p = 2, 1/6\n",
    "YSample = np.random.binomial(n, p, size=s) # Mettre les bon parametres\n",
    "\n",
    "df6 = pd.DataFrame(XSample, columns=['X'])\n",
    "df6['Y'] = pd.Series(YSample)\n",
    "df6.head(12)"
   ]
  },
  {
   "cell_type": "markdown",
   "metadata": {
    "cell_id": "d2af5c930ca54aa29c2e177e352138dc",
    "deepnote_cell_type": "text-cell-p",
    "formattedRanges": [],
    "is_collapsed": false,
    "tags": []
   },
   "source": [
    "Here is the plot of the distribution of XSample"
   ]
  },
  {
   "cell_type": "code",
   "execution_count": 29,
   "metadata": {
    "cell_id": "fd2527a4e6b34445855e75608a60f6e6",
    "deepnote_cell_type": "code",
    "deepnote_to_be_reexecuted": false,
    "execution_millis": 435,
    "execution_start": 1679254730028,
    "source_hash": "7729fb88",
    "tags": []
   },
   "outputs": [
    {
     "data": {
      "image/png": "[encoded data removed]",
      "text/plain": [
       "<Figure size 640x480 with 1 Axes>"
      ]
     },
     "metadata": {},
     "output_type": "display_data"
    }
   ],
   "source": [
    "fig, ax = plt.subplots()\n",
    "sns.histplot(df6, x=\"X\", hue=\"X\", ax=ax)\n",
    "plt.title(\"Law of XSample \")\n",
    "plt.show()"
   ]
  },
  {
   "cell_type": "markdown",
   "metadata": {
    "cell_id": "6af7cccd5f1f4cd7a35ae7728c7b6a86",
    "deepnote_cell_type": "text-cell-p",
    "formattedRanges": [],
    "is_collapsed": false,
    "tags": []
   },
   "source": [
    "Here is the plot of the distribution of YSample"
   ]
  },
  {
   "cell_type": "code",
   "execution_count": 30,
   "metadata": {
    "cell_id": "d3c91a8aaef04d7ab2d7befb0ccc57ef",
    "deepnote_cell_type": "code",
    "deepnote_to_be_reexecuted": false,
    "execution_millis": 428,
    "execution_start": 1679254707436,
    "source_hash": "8cbac09",
    "tags": []
   },
   "outputs": [
    {
     "data": {
      "image/png": "[encoded data removed]",
      "text/plain": [
       "<Figure size 640x480 with 1 Axes>"
      ]
     },
     "metadata": {},
     "output_type": "display_data"
    }
   ],
   "source": [
    "fig, ax = plt.subplots()\n",
    "sns.histplot(df6, x=\"Y\", hue=\"Y\", ax=ax)\n",
    "plt.title(\"Law of YSample \")\n",
    "plt.show()"
   ]
  },
  {
   "cell_type": "markdown",
   "metadata": {
    "cell_id": "6879b7c0d31646828aca144abde55ce3",
    "deepnote_cell_type": "text-cell-p",
    "formattedRanges": [],
    "is_collapsed": false,
    "tags": []
   },
   "source": [
    "Here is the plot of the distribution of ZSample"
   ]
  },
  {
   "cell_type": "code",
   "execution_count": 31,
   "metadata": {
    "cell_id": "a649da11d64e4ad0a62df44fbf1e9583",
    "deepnote_cell_type": "code",
    "deepnote_to_be_reexecuted": false,
    "execution_millis": 334,
    "execution_start": 1679254736875,
    "source_hash": "796632b5",
    "tags": []
   },
   "outputs": [
    {
     "data": {
      "image/png": "[encoded data removed]",
      "text/plain": [
       "<Figure size 640x480 with 1 Axes>"
      ]
     },
     "metadata": {},
     "output_type": "display_data"
    }
   ],
   "source": [
    "fig, ax = plt.subplots()\n",
    "g = sns.stripplot(data=df6,x=\"X\", y=\"Y\", jitter=True, ax=ax)\n",
    "plt.title(\"Law of ZSample \")\n",
    "plt.show()"
   ]
  },
  {
   "cell_type": "markdown",
   "metadata": {
    "cell_id": "1c10cebcea8f4f6aab2af3494e425e83",
    "deepnote_cell_type": "text-cell-p",
    "formattedRanges": [
     {
      "fromCodePoint": 0,
      "marks": {
       "bold": true
      },
      "toCodePoint": 226,
      "type": "marks"
     }
    ],
    "is_collapsed": false,
    "tags": []
   },
   "source": [
    "3)Compute the empirical average of the first n samples, as a function of the num-\n",
    "ber of samples n and verify that it converges to the expected value, by plotting the\n",
    "euclidean distance to the expected value as a function of n"
   ]
  },
  {
   "cell_type": "code",
   "execution_count": 36,
   "metadata": {
    "cell_id": "827dc883510b4cc9821b32a929128131",
    "deepnote_cell_type": "code",
    "deepnote_to_be_reexecuted": false,
    "execution_millis": 322,
    "execution_start": 1679254815736,
    "source_hash": "b27e6343",
    "tags": []
   },
   "outputs": [
    {
     "name": "stdout",
     "output_type": "stream",
     "text": [
      "[1, 11, 21, 31, 41, 51, 61, 71, 81]\n",
      "[0.60092521 0.25757576 0.05323971 0.02688172 0.01465671 0.0404226\n",
      " 0.05763668 0.01173709 0.0308642 ]\n"
     ]
    },
    {
     "data": {
      "image/png": "[encoded data removed]",
      "text/plain": [
       "<Figure size 640x480 with 1 Axes>"
      ]
     },
     "metadata": {},
     "output_type": "display_data"
    }
   ],
   "source": [
    "\n",
    "def convergence(n, ez):\n",
    "    xEA = XSample[:n].sum() / n\n",
    "    yEA = YSample[:n].sum() / n\n",
    "\n",
    "    empirical_average = np.asarray((xEA, yEA))\n",
    "    ez = np.asarray(ez)\n",
    "    diff = np.linalg.norm(empirical_average - ez)\n",
    "    return diff\n",
    "\n",
    "indice = [i for i in range(1, 90, 10)]\n",
    "print(indice)\n",
    "arr = np.array([ convergence(i, ez) for i in range(1, 90, 10)])\n",
    "print(arr)\n",
    "\n",
    "fig, ax = plt.subplots()\n",
    "sns.lineplot(data = arr, ax=ax)\n",
    "ax.set_xlim(1,7)\n",
    "plt.show()\n",
    "\n"
   ]
  },
  {
   "cell_type": "markdown",
   "metadata": {
    "cell_id": "845e5bd071114d03ad7f24710ce8bfbe",
    "deepnote_cell_type": "text-cell-p",
    "formattedRanges": [],
    "is_collapsed": false,
    "tags": []
   },
   "source": [
    "Indeed the difference between the empirical average and the expected value converge to zero."
   ]
  },
  {
   "cell_type": "markdown",
   "metadata": {
    "created_in_deepnote_cell": true,
    "deepnote_cell_type": "markdown",
    "tags": []
   },
   "source": [
    "<a style='text-decoration:none;line-height:16px;display:flex;color:#5B5B62;padding:10px;justify-content:end;' href='https://deepnote.com?utm_source=created-in-deepnote-cell&projectId=78fee1a8-8fdd-4237-ba69-e565ec384717' target=\"_blank\">\n",
    "<img alt='Created in deepnote.com' style='display:inline;max-height:16px;margin:0px;margin-right:7.5px;' src='data:image/svg+xml;base64,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' > </img>\n",
    "Created in <span style='font-weight:600;margin-left:4px;'>Deepnote</span></a>"
   ]
  }
 ],
 "metadata": {
  "deepnote": {},
  "deepnote_execution_queue": [],
  "deepnote_notebook_id": "73d6ec5429c44aeaabcb16d77aeac7e6",
  "kernelspec": {
   "display_name": "Python 3 (ipykernel)",
   "language": "python",
   "name": "python3"
  },
  "language_info": {
   "codemirror_mode": {
    "name": "ipython",
    "version": 3
   },
   "file_extension": ".py",
   "mimetype": "text/x-python",
   "name": "python",
   "nbconvert_exporter": "python",
   "pygments_lexer": "ipython3",
   "version": "3.9.13"
  }
 },
 "nbformat": 4,
 "nbformat_minor": 4
}
